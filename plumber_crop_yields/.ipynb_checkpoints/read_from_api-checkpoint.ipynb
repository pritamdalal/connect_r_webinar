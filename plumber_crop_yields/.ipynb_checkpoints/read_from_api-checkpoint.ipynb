{
 "cells": [
  {
   "cell_type": "markdown",
   "id": "bec9f52d-6cd7-4b6d-8fde-c0317561437d",
   "metadata": {},
   "source": [
    "# Calling a Plumber API from Python in Jupyter"
   ]
  },
  {
   "cell_type": "markdown",
   "id": "ef4072bf-a3dd-46ff-97d1-b56d6feb28e6",
   "metadata": {},
   "source": [
    "In this Jupyter note book we call a `plumber` API that is published to Connect."
   ]
  },
  {
   "cell_type": "markdown",
   "id": "4071c839-3fdd-4b7d-bfec-3044edf8601e",
   "metadata": {},
   "source": [
    "### Importing Packages"
   ]
  },
  {
   "cell_type": "markdown",
   "id": "6698b759-6067-47b8-86e3-73aa257e41f1",
   "metadata": {},
   "source": [
    "We begin by importing the packages that we are going to need."
   ]
  },
  {
   "cell_type": "code",
   "execution_count": 1,
   "id": "b220f1fb-0157-4ac6-bf07-8150f70a4f87",
   "metadata": {},
   "outputs": [],
   "source": [
    "import requests\n",
    "import pandas as pd\n",
    "import urllib"
   ]
  },
  {
   "cell_type": "markdown",
   "id": "f3b5c140-5117-4c3b-82f8-c30e9aa6cfde",
   "metadata": {},
   "source": [
    "### Defining and Calling the `crop_yield` Function"
   ]
  },
  {
   "cell_type": "markdown",
   "id": "e19f803d-1fe3-413a-9e0c-a92c324eab79",
   "metadata": {},
   "source": [
    "Next, we use the `requests` package to define a function that calls the `plumber` API and returns the crop yied for a given year, product, and entity. "
   ]
  },
  {
   "cell_type": "code",
   "execution_count": 2,
   "id": "119c1759-be7c-410b-ab4d-43c6691c1e86",
   "metadata": {},
   "outputs": [],
   "source": [
    "def crop_yield(year, product, entity):\n",
    "    URL = 'https://colorado.rstudio.com/rsc/plumber_crop_yields/crop_yield'\n",
    "    params = {'.year':str(year), '.product':str(product), '.entity':str(entity)}\n",
    "    params = urllib.parse.urlencode(params, quote_via=urllib.parse.quote)\n",
    "    response = requests.get(URL, params=params)\n",
    "    #df = response.json()\n",
    "    df = pd.DataFrame(response.json())\n",
    "    return(df)"
   ]
  },
  {
   "cell_type": "markdown",
   "id": "de13fd8a-7112-4274-bcd4-ae32fa06aff2",
   "metadata": {},
   "source": [
    "Let's test out the function for a specific set of input values."
   ]
  },
  {
   "cell_type": "code",
   "execution_count": null,
   "id": "f46b9211-07cf-4f9a-89d2-339271de536c",
   "metadata": {},
   "outputs": [],
   "source": [
    "#crop_yield(2018, 'soybeans', 'united states') #not working ATM"
   ]
  },
  {
   "cell_type": "markdown",
   "id": "e0119150-cfd1-480d-9044-6081fca42af6",
   "metadata": {},
   "source": [
    "### Defining and Calling the `data_all` Function"
   ]
  },
  {
   "cell_type": "markdown",
   "id": "61b6dd57-96e1-4ab6-8d24-79c3cf739a0a",
   "metadata": {},
   "source": [
    "We similarly create a function that grabs all the crop data from the API"
   ]
  },
  {
   "cell_type": "code",
   "execution_count": 3,
   "id": "91ecf2e8-1df4-4600-b28b-510f272fda1d",
   "metadata": {},
   "outputs": [],
   "source": [
    "def data_all():\n",
    "    URL = 'https://colorado.rstudio.com/rsc/plumber_crop_yields/data_all'\n",
    "    response = requests.get(URL)\n",
    "    df = pd.DataFrame(response.json())\n",
    "    return(df)"
   ]
  },
  {
   "cell_type": "code",
   "execution_count": 4,
   "id": "99e47aab-b3cc-48f1-9435-e8df2f8839f9",
   "metadata": {},
   "outputs": [
    {
     "data": {
      "text/html": [
       "<div>\n",
       "<style scoped>\n",
       "    .dataframe tbody tr th:only-of-type {\n",
       "        vertical-align: middle;\n",
       "    }\n",
       "\n",
       "    .dataframe tbody tr th {\n",
       "        vertical-align: top;\n",
       "    }\n",
       "\n",
       "    .dataframe thead th {\n",
       "        text-align: right;\n",
       "    }\n",
       "</style>\n",
       "<table border=\"1\" class=\"dataframe\">\n",
       "  <thead>\n",
       "    <tr style=\"text-align: right;\">\n",
       "      <th></th>\n",
       "      <th>entity</th>\n",
       "      <th>year</th>\n",
       "      <th>product</th>\n",
       "      <th>crop_yield</th>\n",
       "    </tr>\n",
       "  </thead>\n",
       "  <tbody>\n",
       "    <tr>\n",
       "      <th>0</th>\n",
       "      <td>afghanistan</td>\n",
       "      <td>1961</td>\n",
       "      <td>wheat</td>\n",
       "      <td>1.0220</td>\n",
       "    </tr>\n",
       "    <tr>\n",
       "      <th>1</th>\n",
       "      <td>afghanistan</td>\n",
       "      <td>1961</td>\n",
       "      <td>rice</td>\n",
       "      <td>1.5190</td>\n",
       "    </tr>\n",
       "    <tr>\n",
       "      <th>2</th>\n",
       "      <td>afghanistan</td>\n",
       "      <td>1961</td>\n",
       "      <td>maize</td>\n",
       "      <td>1.4000</td>\n",
       "    </tr>\n",
       "    <tr>\n",
       "      <th>3</th>\n",
       "      <td>afghanistan</td>\n",
       "      <td>1961</td>\n",
       "      <td>soybeans</td>\n",
       "      <td>NaN</td>\n",
       "    </tr>\n",
       "    <tr>\n",
       "      <th>4</th>\n",
       "      <td>afghanistan</td>\n",
       "      <td>1961</td>\n",
       "      <td>potatoes</td>\n",
       "      <td>8.6667</td>\n",
       "    </tr>\n",
       "    <tr>\n",
       "      <th>...</th>\n",
       "      <td>...</td>\n",
       "      <td>...</td>\n",
       "      <td>...</td>\n",
       "      <td>...</td>\n",
       "    </tr>\n",
       "    <tr>\n",
       "      <th>143820</th>\n",
       "      <td>zimbabwe</td>\n",
       "      <td>2018</td>\n",
       "      <td>peas</td>\n",
       "      <td>NaN</td>\n",
       "    </tr>\n",
       "    <tr>\n",
       "      <th>143821</th>\n",
       "      <td>zimbabwe</td>\n",
       "      <td>2018</td>\n",
       "      <td>cassava</td>\n",
       "      <td>4.7705</td>\n",
       "    </tr>\n",
       "    <tr>\n",
       "      <th>143822</th>\n",
       "      <td>zimbabwe</td>\n",
       "      <td>2018</td>\n",
       "      <td>barley</td>\n",
       "      <td>5.4894</td>\n",
       "    </tr>\n",
       "    <tr>\n",
       "      <th>143823</th>\n",
       "      <td>zimbabwe</td>\n",
       "      <td>2018</td>\n",
       "      <td>cocoa beans</td>\n",
       "      <td>NaN</td>\n",
       "    </tr>\n",
       "    <tr>\n",
       "      <th>143824</th>\n",
       "      <td>zimbabwe</td>\n",
       "      <td>2018</td>\n",
       "      <td>bananas</td>\n",
       "      <td>7.8955</td>\n",
       "    </tr>\n",
       "  </tbody>\n",
       "</table>\n",
       "<p>143825 rows × 4 columns</p>\n",
       "</div>"
      ],
      "text/plain": [
       "             entity  year      product  crop_yield\n",
       "0       afghanistan  1961        wheat      1.0220\n",
       "1       afghanistan  1961         rice      1.5190\n",
       "2       afghanistan  1961        maize      1.4000\n",
       "3       afghanistan  1961     soybeans         NaN\n",
       "4       afghanistan  1961     potatoes      8.6667\n",
       "...             ...   ...          ...         ...\n",
       "143820     zimbabwe  2018         peas         NaN\n",
       "143821     zimbabwe  2018      cassava      4.7705\n",
       "143822     zimbabwe  2018       barley      5.4894\n",
       "143823     zimbabwe  2018  cocoa beans         NaN\n",
       "143824     zimbabwe  2018      bananas      7.8955\n",
       "\n",
       "[143825 rows x 4 columns]"
      ]
     },
     "execution_count": 4,
     "metadata": {},
     "output_type": "execute_result"
    }
   ],
   "source": [
    "df = data_all()\n",
    "df"
   ]
  },
  {
   "cell_type": "code",
   "execution_count": null,
   "id": "c184ad45-9db6-4f23-83ed-f000ab26606c",
   "metadata": {},
   "outputs": [],
   "source": []
  }
 ],
 "metadata": {
  "kernelspec": {
   "display_name": "Python 3.10.11",
   "language": "python",
   "name": "py3.10.11"
  },
  "language_info": {
   "codemirror_mode": {
    "name": "ipython",
    "version": 3
   },
   "file_extension": ".py",
   "mimetype": "text/x-python",
   "name": "python",
   "nbconvert_exporter": "python",
   "pygments_lexer": "ipython3",
   "version": "3.10.11"
  }
 },
 "nbformat": 4,
 "nbformat_minor": 5
}
